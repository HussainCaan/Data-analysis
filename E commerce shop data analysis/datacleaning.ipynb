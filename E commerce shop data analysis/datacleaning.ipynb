{
 "cells": [
  {
   "cell_type": "code",
   "execution_count": 1,
   "metadata": {},
   "outputs": [],
   "source": [
    "import pandas as pd\n",
    "import numpy as np\n",
    "\n",
    "\n",
    "data = pd.read_excel(\"Superstore Sales DataSet.xlsx\")"
   ]
  },
  {
   "cell_type": "code",
   "execution_count": 12,
   "metadata": {},
   "outputs": [
    {
     "name": "stdout",
     "output_type": "stream",
     "text": [
      "Row ID+O6G3A1:R6       0\n",
      "Order ID               0\n",
      "Order Date             0\n",
      "Ship Date              0\n",
      "Ship Mode              0\n",
      "Customer ID            0\n",
      "Customer Name          0\n",
      "Segment                0\n",
      "Country                0\n",
      "City                   0\n",
      "State                  0\n",
      "Region                 0\n",
      "Product ID             0\n",
      "Category               0\n",
      "Sub-Category           0\n",
      "Product Name           0\n",
      "Sales                  0\n",
      "Quantity               0\n",
      "Profit                 0\n",
      "Returns                0\n",
      "Payment Mode           0\n",
      "ind1                5901\n",
      "ind2                5901\n",
      "dtype: int64\n",
      "\n",
      "Duplicated data\n",
      "0\n"
     ]
    }
   ],
   "source": [
    "data = pd.DataFrame(data)\n",
    "data\n",
    "\n",
    "data[['Returns']] = data[['Returns']].replace(np.nan, 0)\n",
    "\n",
    "print(data.isnull().sum())\n",
    "print(\"\\nDuplicated data\")\n",
    "print(data.duplicated().sum())\n",
    "\n",
    "data.to_excel('Cleaned data.xlsx')"
   ]
  }
 ],
 "metadata": {
  "kernelspec": {
   "display_name": "Python 3",
   "language": "python",
   "name": "python3"
  },
  "language_info": {
   "codemirror_mode": {
    "name": "ipython",
    "version": 3
   },
   "file_extension": ".py",
   "mimetype": "text/x-python",
   "name": "python",
   "nbconvert_exporter": "python",
   "pygments_lexer": "ipython3",
   "version": "3.11.4"
  }
 },
 "nbformat": 4,
 "nbformat_minor": 2
}
